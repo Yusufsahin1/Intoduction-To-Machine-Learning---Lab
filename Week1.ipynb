{
 "cells": [
  {
   "cell_type": "code",
   "execution_count": 4,
   "id": "6b5c5616",
   "metadata": {},
   "outputs": [
    {
     "name": "stdout",
     "output_type": "stream",
     "text": [
      "15\n",
      "Yaşınızı Giriniz:22\n"
     ]
    },
    {
     "data": {
      "text/plain": [
       "'22'"
      ]
     },
     "execution_count": 4,
     "metadata": {},
     "output_type": "execute_result"
    }
   ],
   "source": [
    "#VARİABLES\n",
    "\n",
    "a=15\n",
    "print(a)\n",
    "\n",
    "yas = input(\"Yaşınızı Giriniz:\")\n",
    "yas\n"
   ]
  },
  {
   "cell_type": "code",
   "execution_count": 8,
   "id": "c94294a3",
   "metadata": {},
   "outputs": [
    {
     "data": {
      "text/plain": [
       "str"
      ]
     },
     "execution_count": 8,
     "metadata": {},
     "output_type": "execute_result"
    }
   ],
   "source": [
    "type(yas)"
   ]
  },
  {
   "cell_type": "code",
   "execution_count": 9,
   "id": "90c89384",
   "metadata": {},
   "outputs": [
    {
     "data": {
      "text/plain": [
       "22"
      ]
     },
     "execution_count": 9,
     "metadata": {},
     "output_type": "execute_result"
    }
   ],
   "source": [
    "type(yas)\n",
    "\n",
    "IntYas = int(yas)\n",
    "IntYas"
   ]
  },
  {
   "cell_type": "code",
   "execution_count": 16,
   "id": "25bc1f8c",
   "metadata": {},
   "outputs": [
    {
     "name": "stdout",
     "output_type": "stream",
     "text": [
      "[10, 20, 30, 40]\n"
     ]
    },
    {
     "data": {
      "text/plain": [
       "[100, 30, 40, 'A']"
      ]
     },
     "execution_count": 16,
     "metadata": {},
     "output_type": "execute_result"
    }
   ],
   "source": [
    "benimListem = [10,20,30,40]\n",
    "print(benimListem)\n",
    "\n",
    "benimListem[3]\n",
    "\n",
    "benimListem[0] = 100\n",
    "benimListem\n",
    "\n",
    "benimListem.append(50)\n",
    "benimListem\n",
    "\n",
    "benimListem.pop()\n",
    "#pop son elemanı return eder ve listeden siler\n",
    "\n",
    "benimListem.remove(20)\n",
    "benimListem\n",
    "\n",
    "benimListem.append(\"A\")\n",
    "benimListem\n"
   ]
  },
  {
   "cell_type": "code",
   "execution_count": 17,
   "id": "64a994cd",
   "metadata": {},
   "outputs": [
    {
     "data": {
      "text/plain": [
       "186"
      ]
     },
     "execution_count": 17,
     "metadata": {},
     "output_type": "execute_result"
    }
   ],
   "source": [
    "liste= [1,5,6,10,15,20,25,7,45,52]\n",
    "sum(liste) "
   ]
  },
  {
   "cell_type": "code",
   "execution_count": 18,
   "id": "e4a6603d",
   "metadata": {},
   "outputs": [
    {
     "name": "stdout",
     "output_type": "stream",
     "text": [
      "Burası if şartından bağımsız çalışır\n"
     ]
    }
   ],
   "source": [
    "#Conditionals\n",
    "\n",
    "a=2\n",
    "b=6\n",
    "\n",
    "if a > b :\n",
    "    print(\"a b'den büyüktür\")\n",
    "    print(\"Burası if şartına bağlı olarak çalışır\")\n",
    "print(\"Burası if şartından bağımsız çalışır\")"
   ]
  },
  {
   "cell_type": "code",
   "execution_count": 19,
   "id": "4e02fac3",
   "metadata": {},
   "outputs": [
    {
     "name": "stdout",
     "output_type": "stream",
     "text": [
      "Sayi2 daha büyüktür\n"
     ]
    }
   ],
   "source": [
    "sayi1=15\n",
    "sayi2=20\n",
    "\n",
    "if sayi1 > sayi2 :\n",
    "    print(\"Sayi1 daha büyüktür\")\n",
    "elif sayi2 > sayi1 :\n",
    "    print(\"Sayi2 daha büyüktür\")\n",
    "else :\n",
    "    print(\"İki sayı birbirine eşittir\")"
   ]
  },
  {
   "cell_type": "code",
   "execution_count": 20,
   "id": "831ed4a2",
   "metadata": {},
   "outputs": [
    {
     "name": "stdout",
     "output_type": "stream",
     "text": [
      "0\n",
      "2\n",
      "4\n",
      "6\n",
      "8\n"
     ]
    }
   ],
   "source": [
    "#Loops\n",
    "yeniListe = [0,1,2,3,4,5,6,7,8,9]\n",
    "for rakam in yeniListe:\n",
    "    if rakam % 2 == 0:\n",
    "        print(rakam)"
   ]
  },
  {
   "cell_type": "code",
   "execution_count": 21,
   "id": "0311fb7d",
   "metadata": {},
   "outputs": [
    {
     "name": "stdout",
     "output_type": "stream",
     "text": [
      "5\n",
      "10\n"
     ]
    }
   ],
   "source": [
    "digerListe = [5,10,15,20,25,30]\n",
    "for numara in digerListe:\n",
    "    if numara==15:\n",
    "        break\n",
    "    print(numara)"
   ]
  },
  {
   "cell_type": "code",
   "execution_count": 22,
   "id": "991a43bf",
   "metadata": {},
   "outputs": [
    {
     "name": "stdout",
     "output_type": "stream",
     "text": [
      "Merhaba\n",
      "Merhaba\n",
      "Merhaba\n",
      "Merhaba\n",
      "Merhaba\n",
      "Merhaba\n",
      "Merhaba\n",
      "Merhaba\n",
      "Merhaba\n",
      "Merhaba\n"
     ]
    }
   ],
   "source": [
    "x=0\n",
    "while x<10:\n",
    "    print(\"Merhaba\")\n",
    "    x=x+1"
   ]
  },
  {
   "cell_type": "code",
   "execution_count": 23,
   "id": "51cb9dee",
   "metadata": {},
   "outputs": [
    {
     "data": {
      "text/plain": [
       "18.84"
      ]
     },
     "execution_count": 23,
     "metadata": {},
     "output_type": "execute_result"
    }
   ],
   "source": [
    "#default and flexible functions\n",
    "\n",
    "# default function: çember çevresi= 2*pi*r\n",
    "\n",
    "def cember_cevre(r,pi=3.14): #burada pi sayısının değeri değişmeyeceği için default değer atandı.\n",
    "    \n",
    "    \"\"\"\n",
    "    cember_cevre\n",
    "    \n",
    "    parametre:r,pi\n",
    "    \n",
    "    output:çemberin çevresi\n",
    "    \n",
    "    \"\"\"\n",
    "    \n",
    "    output = 2*pi*r\n",
    "    \n",
    "    return output\n",
    "\n",
    "cember_cevre(3) #pi sayısı default olarak tanımlandığından fonksiyonda yeni değer yazılmaz.\n",
    "#cember cevresi 12.56 olarak hesaplandı. "
   ]
  },
  {
   "cell_type": "code",
   "execution_count": 24,
   "id": "1b4c8e93",
   "metadata": {},
   "outputs": [],
   "source": [
    "#lambda function\n",
    "#Amaç daha hızlı bir şekilde fonksiyon yazabilmektir.\n",
    "\n",
    "def kupHesapla(x):\n",
    "    \n",
    "    output= x*x*x\n",
    "    \n",
    "    return output\n",
    "\n",
    "sonuc = kupHesapla(3)"
   ]
  },
  {
   "cell_type": "code",
   "execution_count": 25,
   "id": "84c0ad87",
   "metadata": {},
   "outputs": [
    {
     "data": {
      "text/plain": [
       "dict_values([100, [10, 20, 30, 'Yusuf'], {'Anahtar9': 5}])"
      ]
     },
     "execution_count": 25,
     "metadata": {},
     "output_type": "execute_result"
    }
   ],
   "source": [
    "#Dictionary\n",
    "\n",
    "#Key Value Pairing (Anahtar Kelime - Değer Eşleşmesi)\n",
    "#Sozluk = {\"Anahtar Kelime\" : \"Deger\"}\n",
    "\n",
    "yeniDictionary = {\"Anahtar1\" :100, \"Anahtar2\" : [10,20,30,\"Yusuf\"], \"Anahtar3\" : {\"Anahtar9\" :5}}\n",
    "yeniDictionary.keys()\n",
    "yeniDictionary.values()"
   ]
  },
  {
   "cell_type": "code",
   "execution_count": 30,
   "id": "b16ca521",
   "metadata": {},
   "outputs": [
    {
     "data": {
      "text/plain": [
       "'Yusuf'"
      ]
     },
     "execution_count": 30,
     "metadata": {},
     "output_type": "execute_result"
    }
   ],
   "source": [
    "#Tuple\n",
    "\n",
    "#Tuple koleksiyon tipinin listelerden farkı içindeki değerlerin değiştirilemez olmasıdır\n",
    "#Ayrıca syntax farklılığı olarak değerler köşeli parantez değil normal parantez içinde yazılır\n",
    "\n",
    "benimTuple = (1,2,3.5,\"Yusuf\")\n",
    "benimTuple[3]\n",
    "\n",
    "#benimTuple[0] = 6\n",
    "#Böyle bir tanımlama hata verir. Çünkü Tuple yapısında böyle bir işlem mümkün değildir"
   ]
  },
  {
   "cell_type": "code",
   "execution_count": null,
   "id": "a286aa0a",
   "metadata": {},
   "outputs": [],
   "source": []
  }
 ],
 "metadata": {
  "kernelspec": {
   "display_name": "Python 3 (ipykernel)",
   "language": "python",
   "name": "python3"
  },
  "language_info": {
   "codemirror_mode": {
    "name": "ipython",
    "version": 3
   },
   "file_extension": ".py",
   "mimetype": "text/x-python",
   "name": "python",
   "nbconvert_exporter": "python",
   "pygments_lexer": "ipython3",
   "version": "3.9.13"
  }
 },
 "nbformat": 4,
 "nbformat_minor": 5
}
